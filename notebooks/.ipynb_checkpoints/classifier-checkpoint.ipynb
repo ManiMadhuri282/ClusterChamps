{
 "cells": [
  {
   "cell_type": "code",
   "execution_count": null,
   "metadata": {},
   "outputs": [],
   "source": [
    "import numpy as np\n",
    "import pandas as pd"
   ]
  },
  {
   "cell_type": "code",
   "execution_count": null,
   "metadata": {},
   "outputs": [],
   "source": [
    "def convertToJson(inputFile, outputFile, test=False):\n",
    "    \n",
    "    # read lines into memory\n",
    "    with open(inputFile, 'r') as inFile:\n",
    "        count = 0\n",
    "        lines = []\n",
    "        for line in inFile:\n",
    "            lines.append(line)\n",
    "            count +=1\n",
    "            if count > 100 and test:\n",
    "                break\n",
    "        print(count)\n",
    "\n",
    "    # write lines out to json file, last line needs to not have comma otherwise pandas throws error\n",
    "    with open(outputFile, 'w') as outFile:\n",
    "        outFile.write('[\\n')\n",
    "        k = len(lines)\n",
    "        for i, line in enumerate(lines[:-1]):\n",
    "            res = line.replace('}','},')\n",
    "            outFile.write(res)\n",
    "        outFile.write(lines[-1])\n",
    "        outFile.write(']\\n')\n",
    "\n",
    "\n",
    "fileName = 'rio_bq_2019000000000000'\n",
    "outputFileName = fileName+'.json'\n",
    "convertToJson(fileName, outputFileName)\n",
    "                \n"
   ]
  },
  {
   "cell_type": "code",
   "execution_count": null,
   "metadata": {},
   "outputs": [],
   "source": []
  },
  {
   "cell_type": "code",
   "execution_count": null,
   "metadata": {},
   "outputs": [],
   "source": []
  }
 ],
 "metadata": {
  "kernelspec": {
   "display_name": "env",
   "language": "python",
   "name": "env"
  },
  "language_info": {
   "codemirror_mode": {
    "name": "ipython",
    "version": 3
   },
   "file_extension": ".py",
   "mimetype": "text/x-python",
   "name": "python",
   "nbconvert_exporter": "python",
   "pygments_lexer": "ipython3",
   "version": "3.5.3"
  }
 },
 "nbformat": 4,
 "nbformat_minor": 4
}
