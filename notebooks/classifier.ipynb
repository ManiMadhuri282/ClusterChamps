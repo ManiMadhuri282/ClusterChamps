{
 "cells": [
  {
   "cell_type": "code",
   "execution_count": 1,
   "metadata": {},
   "outputs": [],
   "source": [
    "import numpy as np\n",
    "import pandas as pd"
   ]
  },
  {
   "cell_type": "code",
   "execution_count": 2,
   "metadata": {},
   "outputs": [],
   "source": [
    "# converts a raw data file, test flag takes a small subset of the first file (the first threshold rows)\n",
    "def convertToJson(inputFile, outputFile, test=False, threshold=1000):\n",
    "    \n",
    "    # read lines into memory\n",
    "    with open(inputFile, 'r') as inFile:\n",
    "        count = 0\n",
    "        lines = []\n",
    "        for line in inFile:\n",
    "            lines.append(line)\n",
    "            count +=1\n",
    "            if count > threshold and test:\n",
    "                break\n",
    "        print(count)\n",
    "\n",
    "    # write lines out to json file, last line needs to not have comma otherwise pandas throws error\n",
    "    with open(outputFile, 'w') as outFile:\n",
    "        outFile.write('[\\n')\n",
    "        k = len(lines)\n",
    "        for i, line in enumerate(lines[:-1]):\n",
    "            res = line.replace('}','},')\n",
    "            outFile.write(res)\n",
    "        outFile.write(lines[-1])\n",
    "        outFile.write(']\\n')\n"
   ]
  },
  {
   "cell_type": "code",
   "execution_count": 3,
   "metadata": {},
   "outputs": [],
   "source": [
    "# creates a data frame given json file jsonData\n",
    "def createDataFrame(jsonData):\n",
    "    df = None\n",
    "    with open(jsonData,'r') as data:\n",
    "        df = pd.read_json(data)\n",
    "    return df\n"
   ]
  },
  {
   "cell_type": "code",
   "execution_count": 4,
   "metadata": {},
   "outputs": [
    {
     "name": "stdout",
     "output_type": "stream",
     "text": [
      "1001\n",
      "1001\n"
     ]
    }
   ],
   "source": [
    "fileName1 = 'rio_bq_2019000000000000'\n",
    "outputFileName1 = fileName1+'.json'\n",
    "df1 = convertToJson(fileName1, outputFileName1, test=True)\n",
    "                \n",
    "fileName2 = 'rio_bq_2019000000000001'\n",
    "outputFileName2 = fileName2+'.json'\n",
    "df2 = convertToJson(fileName2, outputFileName2, test=True)\n",
    "                \n",
    "df1 = createDataFrame(outputFileName1)\n",
    "df2 = createDataFrame(outputFileName2)\n",
    "\n",
    "frames = [df1, df2]\n",
    "df = pd.concat(frames, ignore_index=True)"
   ]
  },
  {
   "cell_type": "code",
   "execution_count": 5,
   "metadata": {},
   "outputs": [],
   "source": [
    "def convertDateTime(df):\n",
    "    df['localtime'] = pd.to_datetime(df['localtime'])\n",
    "    return df"
   ]
  },
  {
   "cell_type": "code",
   "execution_count": 6,
   "metadata": {},
   "outputs": [],
   "source": [
    "df = convertDateTime(df)\n"
   ]
  },
  {
   "cell_type": "code",
   "execution_count": 7,
   "metadata": {},
   "outputs": [
    {
     "data": {
      "text/plain": [
       "datetime.time(2, 52, 33, 289000)"
      ]
     },
     "execution_count": 7,
     "metadata": {},
     "output_type": "execute_result"
    }
   ],
   "source": [
    "df['localtime'][0].time()"
   ]
  },
  {
   "cell_type": "code",
   "execution_count": null,
   "metadata": {},
   "outputs": [],
   "source": []
  }
 ],
 "metadata": {
  "kernelspec": {
   "display_name": "env",
   "language": "python",
   "name": "env"
  },
  "language_info": {
   "codemirror_mode": {
    "name": "ipython",
    "version": 3
   },
   "file_extension": ".py",
   "mimetype": "text/x-python",
   "name": "python",
   "nbconvert_exporter": "python",
   "pygments_lexer": "ipython3",
   "version": "3.5.3"
  }
 },
 "nbformat": 4,
 "nbformat_minor": 4
}
