{
 "cells": [
  {
   "cell_type": "code",
   "execution_count": 36,
   "metadata": {},
   "outputs": [],
   "source": [
    "import numpy as np\n",
    "import pandas as pd\n",
    "import matplotlib.pyplot as plt\n",
    "from geopy import distance\n",
    "from datetime import timedelta\n",
    "import datetime"
   ]
  },
  {
   "cell_type": "code",
   "execution_count": 26,
   "metadata": {},
   "outputs": [],
   "source": [
    "#Data Preprocessing"
   ]
  },
  {
   "cell_type": "code",
   "execution_count": 27,
   "metadata": {},
   "outputs": [],
   "source": [
    "# converts a raw data file, test flag takes a small subset of the first file (the first threshold rows)\n",
    "def convertToJson(inputFile, outputFile, test=False, threshold=1000):\n",
    "    \n",
    "    # read lines into memory\n",
    "    with open(inputFile, 'r') as inFile:\n",
    "        count = 0\n",
    "        lines = []\n",
    "        for line in inFile:\n",
    "            lines.append(line)\n",
    "            count +=1\n",
    "            if count > threshold and test:\n",
    "                break\n",
    "        print(count)\n",
    "\n",
    "    # write lines out to json file, last line needs to not have comma otherwise pandas throws error\n",
    "    with open(outputFile, 'w') as outFile:\n",
    "        outFile.write('[\\n')\n",
    "        k = len(lines)\n",
    "        for i, line in enumerate(lines[:-1]):\n",
    "            res = line.replace('}','},')\n",
    "            outFile.write(res)\n",
    "        outFile.write(lines[-1])\n",
    "        outFile.write(']\\n')\n"
   ]
  },
  {
   "cell_type": "code",
   "execution_count": 28,
   "metadata": {},
   "outputs": [],
   "source": [
    "# creates a data frame given json file jsonData\n",
    "def createDataFrame(jsonData):\n",
    "    df = None\n",
    "    with open(jsonData,'r') as data:\n",
    "        df = pd.read_json(data)\n",
    "    return df\n"
   ]
  },
  {
   "cell_type": "code",
   "execution_count": null,
   "metadata": {},
   "outputs": [],
   "source": []
  },
  {
   "cell_type": "code",
   "execution_count": 29,
   "metadata": {},
   "outputs": [],
   "source": [
    "#Driver data demo"
   ]
  },
  {
   "cell_type": "code",
   "execution_count": 30,
   "metadata": {},
   "outputs": [
    {
     "name": "stdout",
     "output_type": "stream",
     "text": [
      "10001\n",
      "10001\n"
     ]
    }
   ],
   "source": [
    "fileName1 = 'rio_bq_2019000000000000'\n",
    "outputFileName1 = fileName1+'.json'\n",
    "df1 = convertToJson(fileName1, outputFileName1, test=True, threshold=10000)\n",
    "                \n",
    "fileName2 = 'rio_bq_2019000000000001'\n",
    "outputFileName2 = fileName2+'.json'\n",
    "df2 = convertToJson(fileName2, outputFileName2, test=True, threshold=10000)\n",
    "                \n",
    "df1 = createDataFrame(outputFileName1)\n",
    "df2 = createDataFrame(outputFileName2)\n",
    "\n",
    "frames = [df1, df2]\n",
    "df = pd.concat(frames, ignore_index=True)"
   ]
  },
  {
   "cell_type": "code",
   "execution_count": 31,
   "metadata": {},
   "outputs": [],
   "source": [
    "#Time data manipulation"
   ]
  },
  {
   "cell_type": "code",
   "execution_count": 46,
   "metadata": {},
   "outputs": [
    {
     "data": {
      "text/plain": [
       "<matplotlib.axes._subplots.AxesSubplot at 0x7f8ecfec8b70>"
      ]
     },
     "execution_count": 46,
     "metadata": {},
     "output_type": "execute_result"
    },
    {
     "data": {
      "image/png": "[encoded data removed]",
      "text/plain": [
       "<Figure size 432x288 with 1 Axes>"
      ]
     },
     "metadata": {
      "needs_background": "light"
     },
     "output_type": "display_data"
    }
   ],
   "source": [
    "\n",
    "def convertDateTime(df):\n",
    "    df1['localtime'] = pd.to_datetime(df1['localtime'])\n",
    "    return df\n",
    "\n",
    "df = convertDateTime(df)\n",
    "\n",
    "fig, ax = plt.subplots()\n",
    "top100 = df1['ClientMacAddr'].value_counts()[:10]\n",
    "top100.plot.bar(ax=ax)"
   ]
  },
  {
   "cell_type": "code",
   "execution_count": null,
   "metadata": {
    "scrolled": true
   },
   "outputs": [],
   "source": []
  },
  {
   "cell_type": "code",
   "execution_count": 47,
   "metadata": {},
   "outputs": [],
   "source": [
    "# Generate time series data for desired mac addresses"
   ]
  },
  {
   "cell_type": "code",
   "execution_count": 48,
   "metadata": {},
   "outputs": [],
   "source": [
    "\n",
    "def createInitialAddresses(df, startTime):\n",
    "    endTime = startTime + timedelta(hours=1)\n",
    "    timeFrame = df[(df['localtime'] >= startTime) & (df['localtime'] < endTime)]\n",
    "    addrCounts = df['ClientMacAddr'].value_counts()[:20].to_dict()\n",
    "    return list(addrCounts.keys())\n",
    "\n",
    "def generateMacAddrLocationTimeSeries(df, addrList,starTime , endTime):\n",
    "    timeFrame = df[(df['localtime'] >= startTime) & (df['localtime'] < endTime)]\n",
    "    macAddrLocation = dict()\n",
    "    for addr in addrList:\n",
    "        macAddrLocation[addr] = []\n",
    "    \n",
    "    for time in range(0, 160, 20):\n",
    "        frameStartTime = startTime + timedelta(minutes=time)\n",
    "        frameEndTime = frameStartTime + timedelta(minutes=10)\n",
    "        frame = df[(df['localtime'] >= frameStartTime) & (df['localtime'] < frameEndTime)]\n",
    "        for addr in macAddrLocation:\n",
    "            records = frame.loc[frame['ClientMacAddr'] == addr]\n",
    "            if records.empty:\n",
    "                macAddrLocation[addr].append(None)\n",
    "            else:\n",
    "                macAddrLocation[addr].append(records.iloc[0])\n",
    "    return macAddrLocation\n",
    "        \n",
    "# knnGroupSoloClassifier(df, addrList)\n",
    "\n",
    "# startTime = datetime.datetime(2019,8,1,3,0,0,0, datetime.timezone.utc ) \n",
    "# endTime = datetime.datetime(2019,8,1,6,0,0,0, datetime.timezone.utc)\n",
    "# addrList = createInitialAddresses(df, startTime)\n",
    "# macAddrLocation = generateMacAddrLocationTimeSeries(df, addrList, startTime, endTime)\n",
    "# macAddrLocation"
   ]
  },
  {
   "cell_type": "code",
   "execution_count": 49,
   "metadata": {},
   "outputs": [],
   "source": [
    "# Compute distances from neighbor to neighbor"
   ]
  },
  {
   "cell_type": "code",
   "execution_count": 50,
   "metadata": {},
   "outputs": [
    {
     "data": {
      "text/plain": [
       "pandas._libs.tslibs.timestamps.Timestamp"
      ]
     },
     "execution_count": 50,
     "metadata": {},
     "output_type": "execute_result"
    }
   ],
   "source": [
    "# macAddrLocation.keys()\n",
    "type(df['localtime'][0])"
   ]
  },
  {
   "cell_type": "code",
   "execution_count": 51,
   "metadata": {},
   "outputs": [
    {
     "name": "stderr",
     "output_type": "stream",
     "text": [
      "/home/sunkam1696/inf560/ClusterChamps/env/lib/python3.5/site-packages/ipykernel_launcher.py:24: DeprecationWarning: Vincenty is deprecated and is going to be removed in geopy 2.0. Use `geopy.distance.geodesic` (or the default `geopy.distance.distance`) instead, which is more accurate and always converges.\n"
     ]
    },
    {
     "data": {
      "text/plain": [
       "{'3c:a8:2a:78:83:94': {0: None,\n",
       "  20: [(0.9913093402898622, 'a4:50:46:4a:0d:19'),\n",
       "   (13.83656862878135, '22:07:77:76:2e:9e'),\n",
       "   (18.111806015118198, '40:88:05:99:b3:36'),\n",
       "   (18.54399385815268, '3c:a8:2a:78:b3:e1'),\n",
       "   (20.228037923640326, 'de:14:b8:58:fa:9d'),\n",
       "   (22.010413533874377, '4e:20:ac:ce:c7:1f'),\n",
       "   (29.168435970336255, '38:80:df:e3:5a:45'),\n",
       "   (30.36936853829875, '3c:a8:2a:78:b4:94'),\n",
       "   (31.78717787125155, '38:80:df:ee:6b:1f'),\n",
       "   (34.441842567925384, '38:80:df:e7:84:38')],\n",
       "  40: None,\n",
       "  60: [(7.419689902984126, '02:f3:96:cf:be:a6'),\n",
       "   (7.487272710740744, 'dc:bf:e9:d2:f2:12'),\n",
       "   (8.53603408243253, 'dc:bf:e9:ac:cc:23'),\n",
       "   (9.24806610388314, 'dc:bf:e9:84:56:76'),\n",
       "   (11.013034682732174, 'dc:bf:e9:1f:3f:4c'),\n",
       "   (11.436148810928199, 'dc:bf:e9:94:b4:0b'),\n",
       "   (14.449455721550407, 'dc:bf:e9:aa:b3:d3'),\n",
       "   (16.79326224846694, 'a0:56:f3:16:a3:11'),\n",
       "   (18.435197427011406, 'dc:bf:e9:31:1a:3a'),\n",
       "   (19.50697290944649, 'dc:bf:e9:36:8d:ad')],\n",
       "  80: [(36.83239319911344, '58:d9:c3:20:25:93'),\n",
       "   (45.19234496535625, '26:21:8c:9b:ad:b0'),\n",
       "   (46.19533098888458, '7c:8b:b5:5c:cd:c5'),\n",
       "   (46.23623320557928, 'a6:c7:82:27:11:15'),\n",
       "   (47.780836470116576, 'b2:be:e4:70:db:ff'),\n",
       "   (50.24269644988449, '7a:4d:65:0e:50:8e'),\n",
       "   (51.65299646688192, 'b6:cd:f0:fe:37:23'),\n",
       "   (53.16317843609046, 'de:0b:d8:dd:23:aa'),\n",
       "   (53.86887827388281, 'c2:a9:84:ee:a3:82'),\n",
       "   (55.6432660418843, 'ce:d0:20:ee:1d:bc')],\n",
       "  100: [(7.2932169756924115, 'c0:8c:71:fc:e0:51'),\n",
       "   (9.405479739495052, '3c:a8:2a:78:83:91'),\n",
       "   (14.145554276710078, '30:76:6f:ee:00:66'),\n",
       "   (17.531485328982317, 'd0:04:01:db:0c:74'),\n",
       "   (19.777930435209676, 'd0:04:01:cc:34:9c'),\n",
       "   (20.637454799875535, '0a:e4:f6:a6:3d:98'),\n",
       "   (27.91999283533478, 'a6:4b:7a:78:ca:ce'),\n",
       "   (45.10054949276078, 'a4:ee:57:bf:c5:86'),\n",
       "   (48.60164182862129, '00:18:e7:9f:68:0e'),\n",
       "   (48.7051516819841, 'da:a1:19:3e:bd:84')],\n",
       "  120: [(5.6889587595176945, '58:d9:c3:d6:c4:27'),\n",
       "   (6.417362824820822, '58:d9:c3:86:5d:f4'),\n",
       "   (8.083740811743464, '26:7e:29:de:74:f1'),\n",
       "   (9.218349990282727, '58:d9:c3:64:e0:fd'),\n",
       "   (11.101496845542208, '12:25:5f:d0:58:89'),\n",
       "   (11.892397752722133, 'fa:16:89:dd:b7:92'),\n",
       "   (18.58535801686997, '66:77:4e:a0:42:91'),\n",
       "   (31.444838165338023, '2e:d5:89:d8:b4:e5'),\n",
       "   (32.313455382362925, '56:3f:b8:b6:e2:58'),\n",
       "   (33.24570419820823, '7c:8b:b5:5c:cd:c5')],\n",
       "  140: [(1.2807382632594517, 'da:a1:19:a1:5f:34'),\n",
       "   (1.3017261994114568, 'da:a1:19:fa:7d:47'),\n",
       "   (1.6680898639833972, 'da:a1:19:50:d4:eb'),\n",
       "   (2.0913215394266795, 'da:a1:19:62:6b:44'),\n",
       "   (2.1407471329959478, 'da:a1:19:1f:ba:59'),\n",
       "   (2.1912917628463675, 'da:a1:19:87:95:11'),\n",
       "   (5.350806717185308, 'da:a1:19:8e:23:9d'),\n",
       "   (12.22979220079374, 'da:a1:19:2a:a2:6a'),\n",
       "   (14.124047885984703, 'ce:ba:b9:8d:19:e1'),\n",
       "   (14.57164115626911, '30:4b:07:e3:14:54')]},\n",
       " 'a4:ee:57:bf:c5:86': {0: None,\n",
       "  20: [(4.594653352626516, 'f4:f5:24:44:9b:f2'),\n",
       "   (21.92460009259969, '38:80:df:72:bd:71'),\n",
       "   (22.013745154719256, '38:9a:f6:32:67:cd'),\n",
       "   (24.34097758689678, '92:6f:3f:4e:f6:db'),\n",
       "   (28.814342497918673, '16:c8:e9:0e:b8:ab'),\n",
       "   (29.293387603689734, 'f8:e9:03:a2:40:e3'),\n",
       "   (29.30811016840896, '38:80:df:36:78:2c'),\n",
       "   (30.658881919517686, 'dc:35:f1:8c:1f:1d'),\n",
       "   (31.469988400099805, '4a:67:dc:12:47:87'),\n",
       "   (39.66768893196156, '06:d8:4b:62:12:98')],\n",
       "  40: [(20.59896865252208, 'b8:27:eb:40:c5:85'),\n",
       "   (21.948117938580907, '62:47:be:75:22:02'),\n",
       "   (26.079590746461133, 'ae:76:3e:4e:9a:c2'),\n",
       "   (26.489091662183565, 'f2:9e:e7:56:a0:22'),\n",
       "   (30.815256755315602, '5a:dc:f9:da:b4:95'),\n",
       "   (31.39006415844079, '32:e1:34:e4:85:e3'),\n",
       "   (33.52581230373975, '98:39:8e:3e:01:d3'),\n",
       "   (33.78683536071055, 'dc:35:f1:8c:1f:1d'),\n",
       "   (37.455360443745235, 'da:08:06:56:fd:74'),\n",
       "   (38.18856699832899, '88:d7:f6:ac:60:de')],\n",
       "  60: [(6.2037633532230645, 'b8:27:eb:40:c5:85'),\n",
       "   (7.452982684566726, 'c2:d7:25:58:c9:8a'),\n",
       "   (10.470427478782415, 'a8:16:d0:78:1d:f9'),\n",
       "   (15.337392087281373, '46:fd:4f:16:e3:29'),\n",
       "   (23.23120793051868, '28:80:23:32:16:16'),\n",
       "   (28.435404743965737, '32:af:ec:27:53:66'),\n",
       "   (36.72959557573826, '0a:f3:90:47:af:71'),\n",
       "   (37.432923896330664, '0e:cd:8a:0b:35:77'),\n",
       "   (45.652574196090924, '38:9a:f6:03:73:95'),\n",
       "   (47.992604118824374, 'dc:bf:e9:c6:e6:cf')],\n",
       "  80: [(8.41364219087445, '86:25:75:c6:3b:f3'),\n",
       "   (11.343970236847587, 'a8:96:75:e2:1f:89'),\n",
       "   (11.89745782084415, 'ce:d0:20:ee:1d:bc'),\n",
       "   (14.559014947605457, 'de:0b:d8:dd:23:aa'),\n",
       "   (23.912909915887795, 'c2:a9:84:ee:a3:82'),\n",
       "   (26.316047692988665, 'b6:cd:f0:fe:37:23'),\n",
       "   (27.454617876906077, 'f8:e9:03:a2:40:e3'),\n",
       "   (27.68250030042946, '7a:4d:65:0e:50:8e'),\n",
       "   (29.87319744808007, 'b2:be:e4:70:db:ff'),\n",
       "   (33.1266500353041, '26:21:8c:9b:ad:b0')],\n",
       "  100: [(8.36894001909682, 'b2:9d:21:32:7a:a7'),\n",
       "   (8.738800925664185, '80:58:f8:73:83:23'),\n",
       "   (15.19907396709302, '90:73:5a:e6:10:3c'),\n",
       "   (17.591642861334524, 'a6:4b:7a:78:ca:ce'),\n",
       "   (17.833048097779603, '3e:c0:1b:e9:e6:64'),\n",
       "   (20.803036968859672, '60:1d:91:1d:33:93'),\n",
       "   (24.581405736179885, '40:d9:db:50:a6:38'),\n",
       "   (25.291143878672205, '8a:1f:c7:bd:4c:35'),\n",
       "   (25.32328962243471, 'd0:04:01:cc:34:9c'),\n",
       "   (26.88780801056542, '1e:38:94:44:62:0f')],\n",
       "  120: [(2.13527747087316, '5e:15:2d:fc:6b:7c'),\n",
       "   (3.4323815056783005, 'fa:58:21:11:0c:20'),\n",
       "   (3.8354554351936385, 'd0:77:14:b0:de:07'),\n",
       "   (5.546099552281343, 'ba:92:00:31:7b:4d'),\n",
       "   (6.495936627471718, '9e:80:1e:df:76:8b'),\n",
       "   (6.601569834075587, '72:bb:8d:3e:b5:8e'),\n",
       "   (7.415223026148707, '02:87:8e:dc:f3:79'),\n",
       "   (7.856479411083571, '2e:fb:00:c9:ba:7f'),\n",
       "   (9.917709739861126, '3e:03:58:24:3d:4d'),\n",
       "   (12.181474498825544, '1e:71:dc:30:a9:20')],\n",
       "  140: [(0.4132372510683589, 'da:a1:19:ce:27:b4'),\n",
       "   (2.9454210715956353, 'da:a1:19:10:42:b8'),\n",
       "   (4.140568525600193, 'd4:63:c6:23:a3:bb'),\n",
       "   (4.234847333002825, 'da:a1:19:29:1a:ff'),\n",
       "   (11.0174749292951, 'd4:63:c6:04:cd:1d'),\n",
       "   (14.501676205368817, 'c2:7f:8b:d7:59:74'),\n",
       "   (14.824152656935984, 'b4:f7:a1:9d:3d:74'),\n",
       "   (15.060821006321195, 'da:a1:19:9b:49:d7'),\n",
       "   (17.748465259480092, 'da:a1:19:6b:8f:7e'),\n",
       "   (18.394617540115156, 'd0:77:14:b0:de:07')]}}"
      ]
     },
     "execution_count": 51,
     "metadata": {},
     "output_type": "execute_result"
    }
   ],
   "source": [
    "def computeNeighborDistances(df, addrList,starTime , endTime, k_neighbors=10):\n",
    "    timeFrame = df[(df['localtime'] >= startTime) & (df['localtime'] < endTime)]\n",
    "    \n",
    "    addrList = set(addrList)\n",
    "    neighbor_distances = dict()\n",
    "    for addr in addrList:\n",
    "        neighbor_distances[addr] = dict()\n",
    "        \n",
    "    for time in range(0, 160, 20):\n",
    "        frameStartTime = startTime + timedelta(minutes=time)\n",
    "        frameEndTime = frameStartTime + timedelta(minutes=2)\n",
    "        frame = df[(df['localtime'] >= frameStartTime) & (df['localtime'] < frameEndTime)]\n",
    "        for addr in addrList:\n",
    "            addrLoc = frame.loc[frame['ClientMacAddr'] == addr][:1]\n",
    "            if addrLoc.empty:\n",
    "                neighbor_distances[addr][time] = None\n",
    "            else:\n",
    "                addrLoc = frame.loc[frame['ClientMacAddr'] == addr].iloc[0]\n",
    "                coord_1 = (addrLoc['lat'],addrLoc['lng'])\n",
    "                neighbors = []\n",
    "                visited = set()\n",
    "                visited.add(addr)\n",
    "                for m,record in frame.iterrows():\n",
    "                    d = distance.vincenty(coord_1, (record['lat'],record['lng']))\n",
    "                    if record['ClientMacAddr'] not in visited:\n",
    "                        visited.add(record['ClientMacAddr'])\n",
    "                        neighbors.append((d.m, record['ClientMacAddr']))\n",
    "                neighbors.sort()\n",
    "                neighbor_distances[addr][time] = neighbors[:k_neighbors]\n",
    "\n",
    "\n",
    "    return neighbor_distances\n",
    "        \n",
    "    \n",
    "startTime = datetime.datetime(2019,8,1,3,0,0,0, datetime.timezone.utc ) \n",
    "endTime = datetime.datetime(2019,8,1,6,0,0,0, datetime.timezone.utc)\n",
    "addrList = ['3c:a8:2a:78:83:94','a4:ee:57:bf:c5:86']\n",
    "\n",
    "neighbor_distances = computeNeighborDistances(df, addrList, startTime, endTime)\n",
    "neighbor_distances"
   ]
  },
  {
   "cell_type": "code",
   "execution_count": 52,
   "metadata": {},
   "outputs": [
    {
     "name": "stdout",
     "output_type": "stream",
     "text": [
      "{'80:58:f8:73:83:23': 1, 'fa:58:21:11:0c:20': 1, 'b2:9d:21:32:7a:a7': 1, 'ba:92:00:31:7b:4d': 1, '86:25:75:c6:3b:f3': 1, '9e:80:1e:df:76:8b': 1, 'da:a1:19:10:42:b8': 1, 'b8:27:eb:40:c5:85': 1, '3e:03:58:24:3d:4d': 1, 'c2:d7:25:58:c9:8a': 1, '02:87:8e:dc:f3:79': 1, 'da:a1:19:29:1a:ff': 1, 'd0:77:14:b0:de:07': 1, '2e:fb:00:c9:ba:7f': 1, 'd4:63:c6:23:a3:bb': 1, 'f4:f5:24:44:9b:f2': 1, 'da:a1:19:ce:27:b4': 1, '72:bb:8d:3e:b5:8e': 1, '5e:15:2d:fc:6b:7c': 1}\n",
      "{'dc:bf:e9:ac:cc:23': 1, 'c0:8c:71:fc:e0:51': 1, '58:d9:c3:86:5d:f4': 1, '58:d9:c3:d6:c4:27': 1, 'da:a1:19:fa:7d:47': 1, 'da:a1:19:87:95:11': 1, '02:f3:96:cf:be:a6': 1, 'dc:bf:e9:84:56:76': 1, 'a4:50:46:4a:0d:19': 1, 'da:a1:19:8e:23:9d': 1, 'da:a1:19:a1:5f:34': 1, '26:7e:29:de:74:f1': 1, '3c:a8:2a:78:83:91': 1, 'da:a1:19:62:6b:44': 1, '58:d9:c3:64:e0:fd': 1, 'da:a1:19:1f:ba:59': 1, 'dc:bf:e9:d2:f2:12': 1, 'da:a1:19:50:d4:eb': 1}\n"
     ]
    }
   ],
   "source": [
    "def classifier(neighbor_distances, max_dist_threshold=10, occurence_threshold=5):\n",
    "    groups = dict()\n",
    "    for addr in neighbor_distances:\n",
    "        groups[addr] = []\n",
    "        neighbor_count = dict()\n",
    "        for time in neighbor_distances[addr]:\n",
    "            if neighbor_distances[addr][time]:\n",
    "                for dist, neighbor in neighbor_distances[addr][time]:\n",
    "                    if dist < max_dist_threshold:\n",
    "                        if neighbor in neighbor_count:\n",
    "                            neighbor_count[neighbor] += 1\n",
    "                        else:\n",
    "                            neighbor_count[neighbor] = 1\n",
    "        for neighbor in neighbor_count:\n",
    "            if neighbor_count[neighbor]>occurence_threshold:\n",
    "                groups[addr].append(neighbor)\n",
    "        print(neighbor_count)\n",
    "    return groups\n",
    "\n",
    "groups_by_distance= classifier(neighbor_distances)\n"
   ]
  },
  {
   "cell_type": "code",
   "execution_count": 54,
   "metadata": {},
   "outputs": [
    {
     "data": {
      "text/plain": [
       "{'3c:a8:2a:78:83:94': [], 'a4:ee:57:bf:c5:86': []}"
      ]
     },
     "execution_count": 54,
     "metadata": {},
     "output_type": "execute_result"
    }
   ],
   "source": [
    "groups_by_distance"
   ]
  },
  {
   "cell_type": "code",
   "execution_count": null,
   "metadata": {},
   "outputs": [],
   "source": []
  }
 ],
 "metadata": {
  "kernelspec": {
   "display_name": "Python 3",
   "language": "python",
   "name": "python3"
  },
  "language_info": {
   "codemirror_mode": {
    "name": "ipython",
    "version": 3
   },
   "file_extension": ".py",
   "mimetype": "text/x-python",
   "name": "python",
   "nbconvert_exporter": "python",
   "pygments_lexer": "ipython3",
   "version": "3.5.2"
  }
 },
 "nbformat": 4,
 "nbformat_minor": 4
}
