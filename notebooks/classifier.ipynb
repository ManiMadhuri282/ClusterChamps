{
 "cells": [
  {
   "cell_type": "code",
   "execution_count": 42,
   "metadata": {},
   "outputs": [],
   "source": [
    "import numpy as np\n",
    "import pandas as pd"
   ]
  },
  {
   "cell_type": "code",
   "execution_count": 43,
   "metadata": {},
   "outputs": [],
   "source": [
    "# converts a raw data file, test flag takes a small subset of the first file (the first threshold rows)\n",
    "def convertToJson(inputFile, outputFile, test=False, threshold=1000):\n",
    "    \n",
    "    # read lines into memory\n",
    "    with open(inputFile, 'r') as inFile:\n",
    "        count = 0\n",
    "        lines = []\n",
    "        for line in inFile:\n",
    "            lines.append(line)\n",
    "            count +=1\n",
    "            if count > threshold and test:\n",
    "                break\n",
    "        print(count)\n",
    "\n",
    "    # write lines out to json file, last line needs to not have comma otherwise pandas throws error\n",
    "    with open(outputFile, 'w') as outFile:\n",
    "        outFile.write('[\\n')\n",
    "        k = len(lines)\n",
    "        for i, line in enumerate(lines[:-1]):\n",
    "            res = line.replace('}','},')\n",
    "            outFile.write(res)\n",
    "        outFile.write(lines[-1])\n",
    "        outFile.write(']\\n')\n"
   ]
  },
  {
   "cell_type": "code",
   "execution_count": 44,
   "metadata": {},
   "outputs": [],
   "source": [
    "# creates a data frame given json file jsonData\n",
    "def createDataFrame(jsonData):\n",
    "    df = None\n",
    "    with open(jsonData,'r') as data:\n",
    "        df = pd.read_json(data)\n",
    "    return df\n"
   ]
  },
  {
   "cell_type": "code",
   "execution_count": 45,
   "metadata": {},
   "outputs": [
    {
     "name": "stdout",
     "output_type": "stream",
     "text": [
      "10001\n",
      "10001\n"
     ]
    }
   ],
   "source": [
    "fileName1 = 'rio_bq_2019000000000000'\n",
    "outputFileName1 = fileName1+'.json'\n",
    "df1 = convertToJson(fileName1, outputFileName1, test=True, threshold=10000)\n",
    "                \n",
    "fileName2 = 'rio_bq_2019000000000001'\n",
    "outputFileName2 = fileName2+'.json'\n",
    "df2 = convertToJson(fileName2, outputFileName2, test=True, threshold=10000)\n",
    "                \n",
    "df1 = createDataFrame(outputFileName1)\n",
    "df2 = createDataFrame(outputFileName2)\n",
    "\n",
    "frames = [df1, df2]\n",
    "df = pd.concat(frames, ignore_index=True)"
   ]
  },
  {
   "cell_type": "code",
   "execution_count": 46,
   "metadata": {},
   "outputs": [],
   "source": [
    "def convertDateTime(df):\n",
    "    df['localtime'] = pd.to_datetime(df['localtime'])\n",
    "    return df"
   ]
  },
  {
   "cell_type": "code",
   "execution_count": 47,
   "metadata": {},
   "outputs": [
    {
     "data": {
      "text/plain": [
       "datetime.time(2, 52, 33, 289000)"
      ]
     },
     "execution_count": 47,
     "metadata": {},
     "output_type": "execute_result"
    }
   ],
   "source": [
    "df = convertDateTime(df)\n",
    "df['localtime'][0].time()"
   ]
  },
  {
   "cell_type": "code",
   "execution_count": null,
   "metadata": {},
   "outputs": [],
   "source": []
  },
  {
   "cell_type": "code",
   "execution_count": 48,
   "metadata": {},
   "outputs": [],
   "source": [
    "\n",
    "df81 = df[(df['localtime'] >= '2019-08-01') & (df['localtime'] < '2019-08-02')]"
   ]
  },
  {
   "cell_type": "code",
   "execution_count": 50,
   "metadata": {},
   "outputs": [],
   "source": [
    "import matplotlib.pyplot as plt"
   ]
  },
  {
   "cell_type": "code",
   "execution_count": 70,
   "metadata": {
    "scrolled": true
   },
   "outputs": [
    {
     "data": {
      "text/plain": [
       "<matplotlib.axes._subplots.AxesSubplot at 0x7fbffb43bc50>"
      ]
     },
     "execution_count": 70,
     "metadata": {},
     "output_type": "execute_result"
    },
    {
     "data": {
      "image/png": "[encoded data removed]",
      "text/plain": [
       "<Figure size 432x288 with 1 Axes>"
      ]
     },
     "metadata": {
      "needs_background": "light"
     },
     "output_type": "display_data"
    }
   ],
   "source": [
    "fig, ax = plt.subplots()\n",
    "top100 = df['ClientMacAddr'].value_counts()[:10]\n",
    "top100.plot.bar(ax=ax)"
   ]
  },
  {
   "cell_type": "code",
   "execution_count": 94,
   "metadata": {},
   "outputs": [
    {
     "name": "stdout",
     "output_type": "stream",
     "text": [
      "c0:25:e9:7e:d8:5c\n"
     ]
    }
   ],
   "source": [
    "addrs = df['ClientMacAddr'].value_counts()[:10].to_dict()\n",
    "addrList = []\n",
    "for addr in addrs:\n",
    "    addrList.append(addr)"
   ]
  },
  {
   "cell_type": "code",
   "execution_count": 142,
   "metadata": {},
   "outputs": [
    {
     "name": "stdout",
     "output_type": "stream",
     "text": [
      "Empty DataFrame\n",
      "Columns: [Building, ClientMacAddr, Level, lat, lng, localtime]\n",
      "Index: []\n",
      "    Building      ClientMacAddr    Level        lat        lng  \\\n",
      "244     TPS1  3c:a8:2a:78:b4:94  Level 2 -22.812095 -43.250178   \n",
      "245     TPS1  3c:a8:2a:78:b4:94  Level 2 -22.812095 -43.250178   \n",
      "246     TPS1  84:10:0d:3c:cf:4c  Level 2 -22.812062 -43.251435   \n",
      "247     TPS1  84:10:0d:3c:cf:4c  Level 2 -22.812062 -43.251435   \n",
      "248     TPS1  38:80:df:33:78:f3  Level 2 -22.811882 -43.249165   \n",
      "\n",
      "                           localtime  \n",
      "244 2019-08-01 03:20:01.682000+00:00  \n",
      "245 2019-08-01 03:20:01.682000+00:00  \n",
      "246 2019-08-01 03:20:03.263000+00:00  \n",
      "247 2019-08-01 03:20:03.263000+00:00  \n",
      "248 2019-08-01 03:20:04.579000+00:00  \n",
      "     Building      ClientMacAddr    Level        lat        lng  \\\n",
      "2110     TPS1  28:80:23:32:16:16  Level 2 -22.812084 -43.249817   \n",
      "2111     TPS1  28:80:23:32:16:16  Level 2 -22.812084 -43.249817   \n",
      "2112     TPS1  72:e9:66:e5:01:c2  Level 2 -22.812050 -43.250092   \n",
      "2113     TPS1  72:e9:66:e5:01:c2  Level 2 -22.812050 -43.250092   \n",
      "2114     TPS1  10:7b:44:c9:87:d0  Level 2 -22.812248 -43.250065   \n",
      "\n",
      "                            localtime  \n",
      "2110 2019-08-01 03:40:00.224000+00:00  \n",
      "2111 2019-08-01 03:40:00.224000+00:00  \n",
      "2112 2019-08-01 03:40:03.523000+00:00  \n",
      "2113 2019-08-01 03:40:03.523000+00:00  \n",
      "2114 2019-08-01 03:40:05.250000+00:00  \n",
      "     Building      ClientMacAddr    Level        lat        lng  \\\n",
      "3348     TPS1  dc:bf:e9:d2:f2:12  Level 2 -22.811961 -43.250444   \n",
      "3349     TPS1  dc:bf:e9:d2:f2:12  Level 2 -22.811961 -43.250444   \n",
      "3350     TPS1  a4:ee:57:bf:c5:86  Level 2 -22.811718 -43.249732   \n",
      "3351     TPS1  a4:ee:57:bf:c5:86  Level 2 -22.811718 -43.249732   \n",
      "3352     TPS1  38:9a:f6:03:73:95  Level 2 -22.811794 -43.249295   \n",
      "\n",
      "                            localtime  \n",
      "3348 2019-08-01 04:00:04.439000+00:00  \n",
      "3349 2019-08-01 04:00:04.439000+00:00  \n",
      "3350 2019-08-01 04:00:05.350000+00:00  \n",
      "3351 2019-08-01 04:00:05.350000+00:00  \n",
      "3352 2019-08-01 04:00:07.431000+00:00  \n",
      "     Building      ClientMacAddr    Level        lat        lng  \\\n",
      "4436     TPS1  a4:ee:57:bf:c5:86  Level 2 -22.811793 -43.249880   \n",
      "4437     TPS1  a4:ee:57:bf:c5:86  Level 2 -22.811793 -43.249880   \n",
      "4438     TPS1  28:80:23:32:16:16  Level 2 -22.812174 -43.249623   \n",
      "4439     TPS1  28:80:23:32:16:16  Level 2 -22.812174 -43.249623   \n",
      "4440     TPS1  a8:96:75:e2:1f:89  Level 2 -22.811783 -43.249770   \n",
      "\n",
      "                            localtime  \n",
      "4436 2019-08-01 04:20:00.326000+00:00  \n",
      "4437 2019-08-01 04:20:00.327000+00:00  \n",
      "4438 2019-08-01 04:20:09.216000+00:00  \n",
      "4439 2019-08-01 04:20:09.219000+00:00  \n",
      "4440 2019-08-01 04:20:10.208000+00:00  \n"
     ]
    }
   ],
   "source": [
    "from datetime import timedelta\n",
    "\n",
    "def knnGroupSoloClassifier(df, addrList,starTime , endTime):\n",
    "    timeFrame = df[(df['localtime'] >= startTime) & (df['localtime'] < endTime)]\n",
    "    macAddrLocation = dict()\n",
    "    for addr in addrList:\n",
    "        macAddrLocation = []\n",
    "    \n",
    "    for time in range(0, 100, 20):\n",
    "        frameStartTime = startTime + timedelta(minutes=time)\n",
    "        frameEndTime = frameStartTime + timedelta(minutes=5)\n",
    "        frame = df[(df['localtime'] >= frameStartTime) & (df['localtime'] < frameEndTime)]\n",
    "        for addr in macAddrLocation:\n",
    "            records = frame.loc[frame['ClientMacAddr'] == addr]\n",
    "            if records:\n",
    "                macAddrLocation[addr] = records[0]\n",
    "            else:\n",
    "                macAddrLocation[addr] = None\n",
    "\n",
    "\n",
    "    for addr in macAddrLocation:\n",
    "        print(addr)\n",
    "        print(macAddrLocation[addr])\n",
    "        \n",
    "import datetime\n",
    "# knnGroupSoloClassifier(df, addrList)\n",
    "\n",
    "startTime = datetime.datetime(2019,8,1,3,0,0,0, datetime.timezone.utc ) \n",
    "endTime = datetime.datetime(2019,8,1,5,0,0,0, datetime.timezone.utc)\n",
    "knnGroupSoloClassifier(df, addrList, startTime, endTime)\n"
   ]
  },
  {
   "cell_type": "code",
   "execution_count": 63,
   "metadata": {},
   "outputs": [],
   "source": []
  },
  {
   "cell_type": "code",
   "execution_count": null,
   "metadata": {},
   "outputs": [],
   "source": []
  }
 ],
 "metadata": {
  "kernelspec": {
   "display_name": "env",
   "language": "python",
   "name": "env"
  },
  "language_info": {
   "codemirror_mode": {
    "name": "ipython",
    "version": 3
   },
   "file_extension": ".py",
   "mimetype": "text/x-python",
   "name": "python",
   "nbconvert_exporter": "python",
   "pygments_lexer": "ipython3",
   "version": "3.5.3"
  }
 },
 "nbformat": 4,
 "nbformat_minor": 4
}
