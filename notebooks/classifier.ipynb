{
 "cells": [
  {
   "cell_type": "code",
   "execution_count": 42,
   "metadata": {},
   "outputs": [],
   "source": [
    "import numpy as np\n",
    "import pandas as pd"
   ]
  },
  {
   "cell_type": "code",
   "execution_count": 43,
   "metadata": {},
   "outputs": [],
   "source": [
    "# converts a raw data file, test flag takes a small subset of the first file (the first threshold rows)\n",
    "def convertToJson(inputFile, outputFile, test=False, threshold=1000):\n",
    "    \n",
    "    # read lines into memory\n",
    "    with open(inputFile, 'r') as inFile:\n",
    "        count = 0\n",
    "        lines = []\n",
    "        for line in inFile:\n",
    "            lines.append(line)\n",
    "            count +=1\n",
    "            if count > threshold and test:\n",
    "                break\n",
    "        print(count)\n",
    "\n",
    "    # write lines out to json file, last line needs to not have comma otherwise pandas throws error\n",
    "    with open(outputFile, 'w') as outFile:\n",
    "        outFile.write('[\\n')\n",
    "        k = len(lines)\n",
    "        for i, line in enumerate(lines[:-1]):\n",
    "            res = line.replace('}','},')\n",
    "            outFile.write(res)\n",
    "        outFile.write(lines[-1])\n",
    "        outFile.write(']\\n')\n"
   ]
  },
  {
   "cell_type": "code",
   "execution_count": 44,
   "metadata": {},
   "outputs": [],
   "source": [
    "# creates a data frame given json file jsonData\n",
    "def createDataFrame(jsonData):\n",
    "    df = None\n",
    "    with open(jsonData,'r') as data:\n",
    "        df = pd.read_json(data)\n",
    "    return df\n"
   ]
  },
  {
   "cell_type": "code",
   "execution_count": 45,
   "metadata": {},
   "outputs": [
    {
     "name": "stdout",
     "output_type": "stream",
     "text": [
      "10001\n",
      "10001\n"
     ]
    }
   ],
   "source": [
    "fileName1 = 'rio_bq_2019000000000000'\n",
    "outputFileName1 = fileName1+'.json'\n",
    "df1 = convertToJson(fileName1, outputFileName1, test=True, threshold=10000)\n",
    "                \n",
    "fileName2 = 'rio_bq_2019000000000001'\n",
    "outputFileName2 = fileName2+'.json'\n",
    "df2 = convertToJson(fileName2, outputFileName2, test=True, threshold=10000)\n",
    "                \n",
    "df1 = createDataFrame(outputFileName1)\n",
    "df2 = createDataFrame(outputFileName2)\n",
    "\n",
    "frames = [df1, df2]\n",
    "df = pd.concat(frames, ignore_index=True)"
   ]
  },
  {
   "cell_type": "code",
   "execution_count": 46,
   "metadata": {},
   "outputs": [],
   "source": [
    "def convertDateTime(df):\n",
    "    df['localtime'] = pd.to_datetime(df['localtime'])\n",
    "    return df"
   ]
  },
  {
   "cell_type": "code",
   "execution_count": 47,
   "metadata": {},
   "outputs": [
    {
     "data": {
      "text/plain": [
       "datetime.time(2, 52, 33, 289000)"
      ]
     },
     "execution_count": 47,
     "metadata": {},
     "output_type": "execute_result"
    }
   ],
   "source": [
    "df = convertDateTime(df)\n",
    "df['localtime'][0].time()"
   ]
  },
  {
   "cell_type": "code",
   "execution_count": null,
   "metadata": {},
   "outputs": [],
   "source": []
  },
  {
   "cell_type": "code",
   "execution_count": 48,
   "metadata": {},
   "outputs": [],
   "source": [
    "\n",
    "df81 = df[(df['localtime'] >= '2019-08-01') & (df['localtime'] < '2019-08-02')]"
   ]
  },
  {
   "cell_type": "code",
   "execution_count": 50,
   "metadata": {},
   "outputs": [],
   "source": [
    "import matplotlib.pyplot as plt"
   ]
  },
  {
   "cell_type": "code",
   "execution_count": 55,
   "metadata": {},
   "outputs": [
    {
     "data": {
      "text/plain": [
       "0        a4:ee:57:bf:c5:86\n",
       "1        3c:a8:2a:78:83:94\n",
       "2        f8:62:14:32:35:38\n",
       "3        28:80:23:32:16:16\n",
       "4        28:80:23:32:16:12\n",
       "               ...        \n",
       "19997    6c:e8:5c:62:02:18\n",
       "19998    da:e1:4d:33:82:ae\n",
       "19999    da:e1:4d:33:82:ae\n",
       "20000    dc:35:f1:be:1c:a3\n",
       "20001    dc:35:f1:be:1c:a3\n",
       "Name: ClientMacAddr, Length: 20002, dtype: object"
      ]
     },
     "execution_count": 55,
     "metadata": {},
     "output_type": "execute_result"
    }
   ],
   "source": [
    "df['ClientMacAddr'].groupby"
   ]
  },
  {
   "cell_type": "code",
   "execution_count": 67,
   "metadata": {},
   "outputs": [
    {
     "data": {
      "text/plain": [
       "array(['a4:ee:57:bf:c5:86', '3c:a8:2a:78:83:94', 'f8:62:14:32:35:38', ...,\n",
       "       '7a:97:1f:bd:22:f7', '28:cf:da:e8:3e:f0', 'da:e1:4d:33:82:ae'],\n",
       "      dtype=object)"
      ]
     },
     "execution_count": 67,
     "metadata": {},
     "output_type": "execute_result"
    }
   ],
   "source": [
    "df['ClientMacAddr'].unique()"
   ]
  },
  {
   "cell_type": "code",
   "execution_count": 84,
   "metadata": {},
   "outputs": [
    {
     "data": {
      "text/html": [
       "<div>\n",
       "<style scoped>\n",
       "    .dataframe tbody tr th:only-of-type {\n",
       "        vertical-align: middle;\n",
       "    }\n",
       "\n",
       "    .dataframe tbody tr th {\n",
       "        vertical-align: top;\n",
       "    }\n",
       "\n",
       "    .dataframe thead th {\n",
       "        text-align: right;\n",
       "    }\n",
       "</style>\n",
       "<table border=\"1\" class=\"dataframe\">\n",
       "  <thead>\n",
       "    <tr style=\"text-align: right;\">\n",
       "      <th></th>\n",
       "      <th>Building</th>\n",
       "      <th>ClientMacAddr</th>\n",
       "      <th>Level</th>\n",
       "      <th>lat</th>\n",
       "      <th>lng</th>\n",
       "      <th>localtime</th>\n",
       "    </tr>\n",
       "  </thead>\n",
       "  <tbody>\n",
       "    <tr>\n",
       "      <th>0</th>\n",
       "      <td>TPS1</td>\n",
       "      <td>a4:ee:57:bf:c5:86</td>\n",
       "      <td>Level 2</td>\n",
       "      <td>-22.811781</td>\n",
       "      <td>-43.249902</td>\n",
       "      <td>2019-08-01 02:52:33.289000+00:00</td>\n",
       "    </tr>\n",
       "    <tr>\n",
       "      <th>1</th>\n",
       "      <td>TPS1</td>\n",
       "      <td>3c:a8:2a:78:83:94</td>\n",
       "      <td>Level 2</td>\n",
       "      <td>-22.811983</td>\n",
       "      <td>-43.250474</td>\n",
       "      <td>2019-08-01 02:52:35.488000+00:00</td>\n",
       "    </tr>\n",
       "    <tr>\n",
       "      <th>2</th>\n",
       "      <td>TPS1</td>\n",
       "      <td>f8:62:14:32:35:38</td>\n",
       "      <td>Level 2</td>\n",
       "      <td>-22.812017</td>\n",
       "      <td>-43.251573</td>\n",
       "      <td>2019-08-01 02:52:36.268000+00:00</td>\n",
       "    </tr>\n",
       "    <tr>\n",
       "      <th>3</th>\n",
       "      <td>TPS1</td>\n",
       "      <td>28:80:23:32:16:16</td>\n",
       "      <td>Level 2</td>\n",
       "      <td>-22.812122</td>\n",
       "      <td>-43.249719</td>\n",
       "      <td>2019-08-01 02:52:41.537000+00:00</td>\n",
       "    </tr>\n",
       "    <tr>\n",
       "      <th>4</th>\n",
       "      <td>TPS1</td>\n",
       "      <td>28:80:23:32:16:12</td>\n",
       "      <td>Level 2</td>\n",
       "      <td>-22.812126</td>\n",
       "      <td>-43.249737</td>\n",
       "      <td>2019-08-01 02:52:41.538000+00:00</td>\n",
       "    </tr>\n",
       "  </tbody>\n",
       "</table>\n",
       "</div>"
      ],
      "text/plain": [
       "  Building      ClientMacAddr    Level        lat        lng  \\\n",
       "0     TPS1  a4:ee:57:bf:c5:86  Level 2 -22.811781 -43.249902   \n",
       "1     TPS1  3c:a8:2a:78:83:94  Level 2 -22.811983 -43.250474   \n",
       "2     TPS1  f8:62:14:32:35:38  Level 2 -22.812017 -43.251573   \n",
       "3     TPS1  28:80:23:32:16:16  Level 2 -22.812122 -43.249719   \n",
       "4     TPS1  28:80:23:32:16:12  Level 2 -22.812126 -43.249737   \n",
       "\n",
       "                         localtime  \n",
       "0 2019-08-01 02:52:33.289000+00:00  \n",
       "1 2019-08-01 02:52:35.488000+00:00  \n",
       "2 2019-08-01 02:52:36.268000+00:00  \n",
       "3 2019-08-01 02:52:41.537000+00:00  \n",
       "4 2019-08-01 02:52:41.538000+00:00  "
      ]
     },
     "execution_count": 84,
     "metadata": {},
     "output_type": "execute_result"
    }
   ],
   "source": [
    "df.head()"
   ]
  },
  {
   "cell_type": "code",
   "execution_count": 97,
   "metadata": {},
   "outputs": [
    {
     "ename": "ImportError",
     "evalue": "No module named 'seaborn'",
     "output_type": "error",
     "traceback": [
      "\u001b[0;31m---------------------------------------------------------------------------\u001b[0m",
      "\u001b[0;31mImportError\u001b[0m                               Traceback (most recent call last)",
      "\u001b[0;32m<ipython-input-97-a84c0541e888>\u001b[0m in \u001b[0;36m<module>\u001b[0;34m\u001b[0m\n\u001b[0;32m----> 1\u001b[0;31m \u001b[0;32mimport\u001b[0m \u001b[0mseaborn\u001b[0m \u001b[0;32mas\u001b[0m \u001b[0msns\u001b[0m\u001b[0;34m\u001b[0m\u001b[0m\n\u001b[0m",
      "\u001b[0;31mImportError\u001b[0m: No module named 'seaborn'"
     ]
    }
   ],
   "source": []
  },
  {
   "cell_type": "code",
   "execution_count": null,
   "metadata": {},
   "outputs": [],
   "source": []
  }
 ],
 "metadata": {
  "kernelspec": {
   "display_name": "env",
   "language": "python",
   "name": "env"
  },
  "language_info": {
   "codemirror_mode": {
    "name": "ipython",
    "version": 3
   },
   "file_extension": ".py",
   "mimetype": "text/x-python",
   "name": "python",
   "nbconvert_exporter": "python",
   "pygments_lexer": "ipython3",
   "version": "3.5.3"
  }
 },
 "nbformat": 4,
 "nbformat_minor": 4
}
