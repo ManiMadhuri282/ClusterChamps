{
 "cells": [
  {
   "cell_type": "code",
   "execution_count": null,
   "metadata": {},
   "outputs": [],
   "source": [
    "import numpy as np\n",
    "import pandas as pd\n",
    "import matplotlib.pyplot as plt\n",
    "from geopy import distance"
   ]
  },
  {
   "cell_type": "code",
   "execution_count": null,
   "metadata": {},
   "outputs": [],
   "source": [
    "#Data Preprocessing"
   ]
  },
  {
   "cell_type": "code",
   "execution_count": null,
   "metadata": {},
   "outputs": [],
   "source": [
    "# converts a raw data file, test flag takes a small subset of the first file (the first threshold rows)\n",
    "def convertToJson(inputFile, outputFile, test=False, threshold=1000):\n",
    "    \n",
    "    # read lines into memory\n",
    "    with open(inputFile, 'r') as inFile:\n",
    "        count = 0\n",
    "        lines = []\n",
    "        for line in inFile:\n",
    "            lines.append(line)\n",
    "            count +=1\n",
    "            if count > threshold and test:\n",
    "                break\n",
    "        print(count)\n",
    "\n",
    "    # write lines out to json file, last line needs to not have comma otherwise pandas throws error\n",
    "    with open(outputFile, 'w') as outFile:\n",
    "        outFile.write('[\\n')\n",
    "        k = len(lines)\n",
    "        for i, line in enumerate(lines[:-1]):\n",
    "            res = line.replace('}','},')\n",
    "            outFile.write(res)\n",
    "        outFile.write(lines[-1])\n",
    "        outFile.write(']\\n')\n"
   ]
  },
  {
   "cell_type": "code",
   "execution_count": null,
   "metadata": {},
   "outputs": [],
   "source": [
    "# creates a data frame given json file jsonData\n",
    "def createDataFrame(jsonData):\n",
    "    df = None\n",
    "    with open(jsonData,'r') as data:\n",
    "        df = pd.read_json(data)\n",
    "    return df\n"
   ]
  },
  {
   "cell_type": "code",
   "execution_count": null,
   "metadata": {},
   "outputs": [],
   "source": [
    "#Driver data demo"
   ]
  },
  {
   "cell_type": "code",
   "execution_count": null,
   "metadata": {},
   "outputs": [],
   "source": [
    "fileName1 = 'rio_bq_2019000000000000'\n",
    "outputFileName1 = fileName1+'.json'\n",
    "df1 = convertToJson(fileName1, outputFileName1, test=True, threshold=10000)\n",
    "                \n",
    "fileName2 = 'rio_bq_2019000000000001'\n",
    "outputFileName2 = fileName2+'.json'\n",
    "df2 = convertToJson(fileName2, outputFileName2, test=True, threshold=10000)\n",
    "                \n",
    "df1 = createDataFrame(outputFileName1)\n",
    "df2 = createDataFrame(outputFileName2)\n",
    "\n",
    "frames = [df1, df2]\n",
    "df = pd.concat(frames, ignore_index=True)"
   ]
  },
  {
   "cell_type": "code",
   "execution_count": null,
   "metadata": {},
   "outputs": [],
   "source": [
    "#Time data manipulation"
   ]
  },
  {
   "cell_type": "code",
   "execution_count": null,
   "metadata": {},
   "outputs": [],
   "source": [
    "\n",
    "def convertDateTime(df):\n",
    "    df['localtime'] = pd.to_datetime(df['localtime'])\n",
    "    return df\n",
    "\n",
    "df = convertDateTime(df)\n",
    "\n",
    "fig, ax = plt.subplots()\n",
    "top100 = df['ClientMacAddr'].value_counts()[:10]\n",
    "top100.plot.bar(ax=ax)"
   ]
  },
  {
   "cell_type": "code",
   "execution_count": null,
   "metadata": {
    "scrolled": true
   },
   "outputs": [],
   "source": []
  },
  {
   "cell_type": "code",
   "execution_count": null,
   "metadata": {},
   "outputs": [],
   "source": [
    "# Generate time series data for desired mac addresses"
   ]
  },
  {
   "cell_type": "code",
   "execution_count": null,
   "metadata": {},
   "outputs": [],
   "source": [
    "from datetime import timedelta\n",
    "\n",
    "def createInitialAddresses(df, startTime):\n",
    "    endTime = startTime + timedelta(hours=1)\n",
    "    timeFrame = df[(df['localtime'] >= startTime) & (df['localtime'] < endTime)]\n",
    "    addrCounts = df['ClientMacAddr'].value_counts()[:20].to_dict()\n",
    "    return list(addrCounts.keys())\n",
    "\n",
    "def generateMacAddrLocationTimeSeries(df, addrList,starTime , endTime):\n",
    "    timeFrame = df[(df['localtime'] >= startTime) & (df['localtime'] < endTime)]\n",
    "    macAddrLocation = dict()\n",
    "    for addr in addrList:\n",
    "        macAddrLocation[addr] = []\n",
    "    \n",
    "    for time in range(0, 160, 20):\n",
    "        frameStartTime = startTime + timedelta(minutes=time)\n",
    "        frameEndTime = frameStartTime + timedelta(minutes=10)\n",
    "        frame = df[(df['localtime'] >= frameStartTime) & (df['localtime'] < frameEndTime)]\n",
    "        for addr in macAddrLocation:\n",
    "            records = frame.loc[frame['ClientMacAddr'] == addr]\n",
    "            if records.empty:\n",
    "                macAddrLocation[addr].append(None)\n",
    "            else:\n",
    "                macAddrLocation[addr].append(records.iloc[0])\n",
    "    return macAddrLocation\n",
    "        \n",
    "import datetime\n",
    "# knnGroupSoloClassifier(df, addrList)\n",
    "\n",
    "startTime = datetime.datetime(2019,8,1,3,0,0,0, datetime.timezone.utc ) \n",
    "endTime = datetime.datetime(2019,8,1,6,0,0,0, datetime.timezone.utc)\n",
    "addrList = createInitialAddresses(df, startTime)\n",
    "macAddrLocation = generateMacAddrLocationTimeSeries(df, addrList, startTime, endTime)\n",
    "macAddrLocation"
   ]
  },
  {
   "cell_type": "code",
   "execution_count": null,
   "metadata": {},
   "outputs": [],
   "source": [
    "# Compute distances from neighbor to neighbor"
   ]
  },
  {
   "cell_type": "code",
   "execution_count": null,
   "metadata": {},
   "outputs": [],
   "source": [
    "def computeNeighborDistance(df, addrList,starTime , endTime):\n",
    "    timeFrame = df[(df['localtime'] >= startTime) & (df['localtime'] < endTime)]\n",
    "    macAddrLocation = dict()\n",
    "    for addr in addrList:\n",
    "        macAddrLocation[addr] = []\n",
    "    \n",
    "    distances = dict()\n",
    "    for addr in addrList:\n",
    "        distances[addr] = dict()\n",
    "        \n",
    "    for time in range(0, 160, 20):\n",
    "        frameStartTime = startTime + timedelta(minutes=time)\n",
    "        frameEndTime = frameStartTime + timedelta(minutes=10)\n",
    "        frame = df[(df['localtime'] >= frameStartTime) & (df['localtime'] < frameEndTime)]\n",
    "        for addr in addrList:\n",
    "            coord_1 = (-22.81152051717558, -43.24944357396987)\n",
    "            for m,record in frame.iterrows():\n",
    "                distances[addr][record['ClientMacAddr']] = str(distance.vincenty(coord_1, (record['lat'],record['lng'])))\n",
    "\n",
    "    return distances\n",
    "        \n",
    "    \n",
    "startTime = datetime.datetime(2019,8,1,3,0,0,0, datetime.timezone.utc ) \n",
    "endTime = datetime.datetime(2019,8,1,6,0,0,0, datetime.timezone.utc)\n",
    "addrList = ['3c:a8:2a:78:83:94']\n",
    "distances = computeNeighborDistance(df, addrList, startTime, endTime)\n",
    "\n",
    "distances"
   ]
  },
  {
   "cell_type": "code",
   "execution_count": null,
   "metadata": {},
   "outputs": [],
   "source": [
    "len(distances['3c:a8:2a:78:83:94'])"
   ]
  },
  {
   "cell_type": "code",
   "execution_count": null,
   "metadata": {},
   "outputs": [],
   "source": []
  },
  {
   "cell_type": "code",
   "execution_count": null,
   "metadata": {},
   "outputs": [],
   "source": []
  }
 ],
 "metadata": {
  "kernelspec": {
   "display_name": "env",
   "language": "python",
   "name": "env"
  },
  "language_info": {
   "codemirror_mode": {
    "name": "ipython",
    "version": 3
   },
   "file_extension": ".py",
   "mimetype": "text/x-python",
   "name": "python",
   "nbconvert_exporter": "python",
   "pygments_lexer": "ipython3",
   "version": "3.5.3"
  }
 },
 "nbformat": 4,
 "nbformat_minor": 4
}
